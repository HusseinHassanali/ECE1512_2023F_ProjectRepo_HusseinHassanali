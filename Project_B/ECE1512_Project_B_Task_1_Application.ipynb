{
  "nbformat": 4,
  "nbformat_minor": 0,
  "metadata": {
    "colab": {
      "provenance": [],
      "machine_shape": "hm",
      "gpuType": "A100"
    },
    "kernelspec": {
      "name": "python3",
      "display_name": "Python 3"
    },
    "language_info": {
      "name": "python"
    },
    "accelerator": "GPU"
  },
  "cells": [
    {
      "cell_type": "markdown",
      "source": [
        "# Imports and installations"
      ],
      "metadata": {
        "id": "-95NGEElkI07"
      }
    },
    {
      "cell_type": "code",
      "source": [
        "# Code adapted from here: https://github.com/DingfanChen/Private-Set"
      ],
      "metadata": {
        "id": "s2nVcEXnj8GY"
      },
      "execution_count": null,
      "outputs": []
    },
    {
      "cell_type": "code",
      "source": [
        "from google.colab import drive\n",
        "drive.mount('/content/drive')"
      ],
      "metadata": {
        "colab": {
          "base_uri": "https://localhost:8080/"
        },
        "id": "UesHdbeN3n8x",
        "outputId": "f1d25ad2-4145-4027-a18a-2f60b718a205"
      },
      "execution_count": null,
      "outputs": [
        {
          "output_type": "stream",
          "name": "stdout",
          "text": [
            "Mounted at /content/drive\n"
          ]
        }
      ]
    },
    {
      "cell_type": "code",
      "execution_count": null,
      "metadata": {
        "colab": {
          "base_uri": "https://localhost:8080/"
        },
        "id": "-Fxq4NNb2Cno",
        "outputId": "8f721b08-d165-420a-e149-7600121e0c41"
      },
      "outputs": [
        {
          "output_type": "stream",
          "name": "stdout",
          "text": [
            "Cloning into 'Private-Set'...\n",
            "remote: Enumerating objects: 126, done.\u001b[K\n",
            "remote: Counting objects: 100% (126/126), done.\u001b[K\n",
            "remote: Compressing objects: 100% (95/95), done.\u001b[K\n",
            "remote: Total 126 (delta 35), reused 105 (delta 25), pack-reused 0\u001b[K\n",
            "Receiving objects: 100% (126/126), 382.15 KiB | 15.92 MiB/s, done.\n",
            "Resolving deltas: 100% (35/35), done.\n",
            "Collecting opacus==0.15.0 (from -r requirements.txt (line 1))\n",
            "  Downloading opacus-0.15.0-py3-none-any.whl (125 kB)\n",
            "\u001b[2K     \u001b[90m━━━━━━━━━━━━━━━━━━━━━━━━━━━━━━━━━━━━━━━━\u001b[0m \u001b[32m125.8/125.8 kB\u001b[0m \u001b[31m2.8 MB/s\u001b[0m eta \u001b[36m0:00:00\u001b[0m\n",
            "\u001b[?25hRequirement already satisfied: scipy in /usr/local/lib/python3.10/dist-packages (from -r requirements.txt (line 2)) (1.11.4)\n",
            "Requirement already satisfied: pyyaml in /usr/local/lib/python3.10/dist-packages (from -r requirements.txt (line 3)) (6.0.1)\n",
            "Requirement already satisfied: matplotlib in /usr/local/lib/python3.10/dist-packages (from -r requirements.txt (line 4)) (3.7.1)\n",
            "Collecting progress (from -r requirements.txt (line 5))\n",
            "  Downloading progress-1.6.tar.gz (7.8 kB)\n",
            "  Preparing metadata (setup.py) ... \u001b[?25l\u001b[?25hdone\n",
            "Requirement already satisfied: numpy>=1.15 in /usr/local/lib/python3.10/dist-packages (from opacus==0.15.0->-r requirements.txt (line 1)) (1.23.5)\n",
            "Requirement already satisfied: torch>=1.3 in /usr/local/lib/python3.10/dist-packages (from opacus==0.15.0->-r requirements.txt (line 1)) (2.1.0+cu118)\n",
            "Requirement already satisfied: contourpy>=1.0.1 in /usr/local/lib/python3.10/dist-packages (from matplotlib->-r requirements.txt (line 4)) (1.2.0)\n",
            "Requirement already satisfied: cycler>=0.10 in /usr/local/lib/python3.10/dist-packages (from matplotlib->-r requirements.txt (line 4)) (0.12.1)\n",
            "Requirement already satisfied: fonttools>=4.22.0 in /usr/local/lib/python3.10/dist-packages (from matplotlib->-r requirements.txt (line 4)) (4.45.1)\n",
            "Requirement already satisfied: kiwisolver>=1.0.1 in /usr/local/lib/python3.10/dist-packages (from matplotlib->-r requirements.txt (line 4)) (1.4.5)\n",
            "Requirement already satisfied: packaging>=20.0 in /usr/local/lib/python3.10/dist-packages (from matplotlib->-r requirements.txt (line 4)) (23.2)\n",
            "Requirement already satisfied: pillow>=6.2.0 in /usr/local/lib/python3.10/dist-packages (from matplotlib->-r requirements.txt (line 4)) (9.4.0)\n",
            "Requirement already satisfied: pyparsing>=2.3.1 in /usr/local/lib/python3.10/dist-packages (from matplotlib->-r requirements.txt (line 4)) (3.1.1)\n",
            "Requirement already satisfied: python-dateutil>=2.7 in /usr/local/lib/python3.10/dist-packages (from matplotlib->-r requirements.txt (line 4)) (2.8.2)\n",
            "Requirement already satisfied: six>=1.5 in /usr/local/lib/python3.10/dist-packages (from python-dateutil>=2.7->matplotlib->-r requirements.txt (line 4)) (1.16.0)\n",
            "Requirement already satisfied: filelock in /usr/local/lib/python3.10/dist-packages (from torch>=1.3->opacus==0.15.0->-r requirements.txt (line 1)) (3.13.1)\n",
            "Requirement already satisfied: typing-extensions in /usr/local/lib/python3.10/dist-packages (from torch>=1.3->opacus==0.15.0->-r requirements.txt (line 1)) (4.5.0)\n",
            "Requirement already satisfied: sympy in /usr/local/lib/python3.10/dist-packages (from torch>=1.3->opacus==0.15.0->-r requirements.txt (line 1)) (1.12)\n",
            "Requirement already satisfied: networkx in /usr/local/lib/python3.10/dist-packages (from torch>=1.3->opacus==0.15.0->-r requirements.txt (line 1)) (3.2.1)\n",
            "Requirement already satisfied: jinja2 in /usr/local/lib/python3.10/dist-packages (from torch>=1.3->opacus==0.15.0->-r requirements.txt (line 1)) (3.1.2)\n",
            "Requirement already satisfied: fsspec in /usr/local/lib/python3.10/dist-packages (from torch>=1.3->opacus==0.15.0->-r requirements.txt (line 1)) (2023.6.0)\n",
            "Requirement already satisfied: triton==2.1.0 in /usr/local/lib/python3.10/dist-packages (from torch>=1.3->opacus==0.15.0->-r requirements.txt (line 1)) (2.1.0)\n",
            "Requirement already satisfied: MarkupSafe>=2.0 in /usr/local/lib/python3.10/dist-packages (from jinja2->torch>=1.3->opacus==0.15.0->-r requirements.txt (line 1)) (2.1.3)\n",
            "Requirement already satisfied: mpmath>=0.19 in /usr/local/lib/python3.10/dist-packages (from sympy->torch>=1.3->opacus==0.15.0->-r requirements.txt (line 1)) (1.3.0)\n",
            "Building wheels for collected packages: progress\n",
            "  Building wheel for progress (setup.py) ... \u001b[?25l\u001b[?25hdone\n",
            "  Created wheel for progress: filename=progress-1.6-py3-none-any.whl size=9612 sha256=538257ab2cacf082ac2e85409ade229b6a6d91077201ee8a36ab464cf64c8534\n",
            "  Stored in directory: /root/.cache/pip/wheels/a2/68/5f/c339b20a41659d856c93ccdce6a33095493eb82c3964aac5a1\n",
            "Successfully built progress\n",
            "Installing collected packages: progress, opacus\n",
            "Successfully installed opacus-0.15.0 progress-1.6\n"
          ]
        }
      ],
      "source": [
        "import os\n",
        "\n",
        "github_repo_url = 'https://github.com/DingfanChen/Private-Set.git'\n",
        "repository_name = github_repo_url.split('/')[-1].split('.')[0]\n",
        "\n",
        "os.chdir('/content/PrivacyApp/')\n",
        "!git clone $github_repo_url\n",
        "\n",
        "os.chdir(repository_name)\n",
        "\n",
        "!pip install -r requirements.txt\n",
        "\n"
      ]
    },
    {
      "cell_type": "markdown",
      "source": [
        "# Run experiments with varing levels of privacy"
      ],
      "metadata": {
        "id": "AWR223aqkNPE"
      }
    },
    {
      "cell_type": "code",
      "source": [
        "!python main.py --dataset \"MNIST\" --exp_name \"MNIST_NO_PRIVACY\""
      ],
      "metadata": {
        "colab": {
          "base_uri": "https://localhost:8080/"
        },
        "id": "PJPSUjdz3JVS",
        "outputId": "436cb676-3eb6-4818-992d-00a9a632a911"
      },
      "execution_count": null,
      "outputs": [
        {
          "output_type": "stream",
          "name": "stdout",
          "text": [
            "exp_name:MNIST_NO_PRIVACY\n",
            "dataset:MNIST\n",
            "data_root:data\n",
            "random_seed:1000\n",
            "only_eval:False\n",
            "load_checkpoint:False\n",
            "method:DC\n",
            "model:ConvNet\n",
            "spc:1\n",
            "eval_mode:M\n",
            "num_exp:1\n",
            "num_eval:3\n",
            "epoch_eval_train:300\n",
            "iteration:1000\n",
            "batch_loop:10\n",
            "outer_loop:-1\n",
            "inner_loop:-1\n",
            "lr_img:0.1\n",
            "lr_net:0.01\n",
            "batch_real:256\n",
            "batch_train:256\n",
            "dsa_strategy:None\n",
            "dis_metric:gm\n",
            "enable_privacy:False\n",
            "target_epsilon:10\n",
            "target_delta:1e-05\n",
            "max_norm:0.1\n",
            "sigma:0\n"
          ]
        }
      ]
    },
    {
      "cell_type": "code",
      "source": [
        "!python main.py --dataset \"MNIST\"  --exp_name \"MNIST_PRIVACY\" --enable_privacy"
      ],
      "metadata": {
        "colab": {
          "base_uri": "https://localhost:8080/"
        },
        "id": "T1F_OG7B7jSF",
        "outputId": "f373b202-3fb9-47ca-c36d-40ed74286a23"
      },
      "execution_count": null,
      "outputs": [
        {
          "output_type": "stream",
          "name": "stdout",
          "text": [
            "exp_name:MNIST_PRIVACY\n",
            "dataset:MNIST\n",
            "data_root:data\n",
            "random_seed:1000\n",
            "only_eval:False\n",
            "load_checkpoint:False\n",
            "method:DC\n",
            "model:ConvNet\n",
            "spc:1\n",
            "eval_mode:M\n",
            "num_exp:1\n",
            "num_eval:3\n",
            "epoch_eval_train:300\n",
            "iteration:1000\n",
            "batch_loop:10\n",
            "outer_loop:-1\n",
            "inner_loop:-1\n",
            "lr_img:0.1\n",
            "lr_net:0.01\n",
            "batch_real:256\n",
            "batch_train:256\n",
            "dsa_strategy:None\n",
            "dis_metric:gm\n",
            "enable_privacy:True\n",
            "target_epsilon:10\n",
            "target_delta:1e-05\n",
            "max_norm:0.1\n",
            "sigma:0\n"
          ]
        }
      ]
    },
    {
      "cell_type": "code",
      "source": [
        "!python main.py --dataset \"MNIST\"  --exp_name \"MNIST_PRIVACY_5\" --target_epsilon 5 --enable_privacy"
      ],
      "metadata": {
        "colab": {
          "base_uri": "https://localhost:8080/"
        },
        "id": "U0udcz_pEuPs",
        "outputId": "7e7f5dff-9198-4add-aa76-4c3936141430"
      },
      "execution_count": null,
      "outputs": [
        {
          "output_type": "stream",
          "name": "stdout",
          "text": [
            "exp_name:MNIST_PRIVACY_5\n",
            "dataset:MNIST\n",
            "data_root:data\n",
            "random_seed:1000\n",
            "only_eval:False\n",
            "load_checkpoint:False\n",
            "method:DC\n",
            "model:ConvNet\n",
            "spc:1\n",
            "eval_mode:M\n",
            "num_exp:1\n",
            "num_eval:3\n",
            "epoch_eval_train:300\n",
            "iteration:1000\n",
            "batch_loop:10\n",
            "outer_loop:-1\n",
            "inner_loop:-1\n",
            "lr_img:0.1\n",
            "lr_net:0.01\n",
            "batch_real:256\n",
            "batch_train:256\n",
            "dsa_strategy:None\n",
            "dis_metric:gm\n",
            "enable_privacy:True\n",
            "target_epsilon:5.0\n",
            "target_delta:1e-05\n",
            "max_norm:0.1\n",
            "sigma:0\n"
          ]
        }
      ]
    },
    {
      "cell_type": "code",
      "source": [
        "!python main.py --dataset \"MNIST\"  --exp_name \"MNIST_PRIVACY_20\" --target_epsilon 20 --enable_privacy"
      ],
      "metadata": {
        "colab": {
          "base_uri": "https://localhost:8080/"
        },
        "id": "dy7H6VlfJPk8",
        "outputId": "dc427d30-7e10-494b-a672-2785baed2987"
      },
      "execution_count": null,
      "outputs": [
        {
          "output_type": "stream",
          "name": "stdout",
          "text": [
            "exp_name:MNIST_PRIVACY_20\n",
            "dataset:MNIST\n",
            "data_root:data\n",
            "random_seed:1000\n",
            "only_eval:False\n",
            "load_checkpoint:False\n",
            "method:DC\n",
            "model:ConvNet\n",
            "spc:1\n",
            "eval_mode:M\n",
            "num_exp:1\n",
            "num_eval:3\n",
            "epoch_eval_train:300\n",
            "iteration:1000\n",
            "batch_loop:10\n",
            "outer_loop:-1\n",
            "inner_loop:-1\n",
            "lr_img:0.1\n",
            "lr_net:0.01\n",
            "batch_real:256\n",
            "batch_train:256\n",
            "dsa_strategy:None\n",
            "dis_metric:gm\n",
            "enable_privacy:True\n",
            "target_epsilon:20.0\n",
            "target_delta:1e-05\n",
            "max_norm:0.1\n",
            "sigma:0\n"
          ]
        }
      ]
    },
    {
      "cell_type": "code",
      "source": [
        "!python main.py --dataset \"MNIST\"  --exp_name \"MNIST_PRIVACY_30\" --target_epsilon 30 --enable_privacy"
      ],
      "metadata": {
        "colab": {
          "base_uri": "https://localhost:8080/"
        },
        "id": "j7F853hFNsvA",
        "outputId": "1227b1d5-209d-48af-c4c9-70d70e6240ee"
      },
      "execution_count": null,
      "outputs": [
        {
          "output_type": "stream",
          "name": "stdout",
          "text": [
            "exp_name:MNIST_PRIVACY_30\n",
            "dataset:MNIST\n",
            "data_root:data\n",
            "random_seed:1000\n",
            "only_eval:False\n",
            "load_checkpoint:False\n",
            "method:DC\n",
            "model:ConvNet\n",
            "spc:1\n",
            "eval_mode:M\n",
            "num_exp:1\n",
            "num_eval:3\n",
            "epoch_eval_train:300\n",
            "iteration:1000\n",
            "batch_loop:10\n",
            "outer_loop:-1\n",
            "inner_loop:-1\n",
            "lr_img:0.1\n",
            "lr_net:0.01\n",
            "batch_real:256\n",
            "batch_train:256\n",
            "dsa_strategy:None\n",
            "dis_metric:gm\n",
            "enable_privacy:True\n",
            "target_epsilon:30.0\n",
            "target_delta:1e-05\n",
            "max_norm:0.1\n",
            "sigma:0\n"
          ]
        }
      ]
    }
  ]
}